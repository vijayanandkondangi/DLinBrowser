{
  "nbformat": 4,
  "nbformat_minor": 0,
  "metadata": {
    "colab": {
      "name": "DL on Iris Data Set.ipynb",
      "provenance": []
    },
    "kernelspec": {
      "name": "python3",
      "display_name": "Python 3"
    }
  },
  "cells": [
    {
      "cell_type": "code",
      "metadata": {
        "id": "I8DDpnFbyPDm"
      },
      "source": [
        "# Import the required libraries\r\n",
        "\r\n",
        "import numpy as np\r\n",
        "import pandas as pd\r\n",
        "import matplotlib.pyplot as plt\r\n",
        "import os\r\n",
        "\r\n",
        "from sklearn.model_selection import train_test_split\r\n",
        "from sklearn.preprocessing import LabelEncoder\r\n",
        "\r\n",
        "from keras.models import Sequential\r\n",
        "from keras.layers import Dense\r\n",
        "from keras.optimizers import SGD,Adam"
      ],
      "execution_count": null,
      "outputs": []
    },
    {
      "cell_type": "code",
      "metadata": {
        "colab": {
          "base_uri": "https://localhost:8080/"
        },
        "id": "Odr3uAVmzaxV",
        "outputId": "c5a68659-a58d-4356-b1b2-85d94b716033"
      },
      "source": [
        "# Mount the google drive folder and load the Iris data set\r\n",
        "\r\n",
        "from google.colab import drive\r\n",
        "\r\n",
        "drive.mount('/content/gdrive', force_remount = True)\r\n",
        "os.chdir('/content/gdrive/My Drive')\r\n",
        "\r\n",
        "data = pd.read_csv(\"Iris.csv\")"
      ],
      "execution_count": null,
      "outputs": [
        {
          "output_type": "stream",
          "text": [
            "Mounted at /content/gdrive\n"
          ],
          "name": "stdout"
        }
      ]
    },
    {
      "cell_type": "code",
      "metadata": {
        "colab": {
          "base_uri": "https://localhost:8080/",
          "height": 206
        },
        "id": "qCsia19j0Izf",
        "outputId": "b368ef7b-98af-40fd-cbec-2d05615427cc"
      },
      "source": [
        "# Examine the dataframe for sanity\r\n",
        "\r\n",
        "data.head(5)"
      ],
      "execution_count": null,
      "outputs": [
        {
          "output_type": "execute_result",
          "data": {
            "text/html": [
              "<div>\n",
              "<style scoped>\n",
              "    .dataframe tbody tr th:only-of-type {\n",
              "        vertical-align: middle;\n",
              "    }\n",
              "\n",
              "    .dataframe tbody tr th {\n",
              "        vertical-align: top;\n",
              "    }\n",
              "\n",
              "    .dataframe thead th {\n",
              "        text-align: right;\n",
              "    }\n",
              "</style>\n",
              "<table border=\"1\" class=\"dataframe\">\n",
              "  <thead>\n",
              "    <tr style=\"text-align: right;\">\n",
              "      <th></th>\n",
              "      <th>Id</th>\n",
              "      <th>SepalLengthCm</th>\n",
              "      <th>SepalWidthCm</th>\n",
              "      <th>PetalLengthCm</th>\n",
              "      <th>PetalWidthCm</th>\n",
              "      <th>Species</th>\n",
              "    </tr>\n",
              "  </thead>\n",
              "  <tbody>\n",
              "    <tr>\n",
              "      <th>0</th>\n",
              "      <td>1</td>\n",
              "      <td>5.1</td>\n",
              "      <td>3.5</td>\n",
              "      <td>1.4</td>\n",
              "      <td>0.2</td>\n",
              "      <td>Iris-setosa</td>\n",
              "    </tr>\n",
              "    <tr>\n",
              "      <th>1</th>\n",
              "      <td>2</td>\n",
              "      <td>4.9</td>\n",
              "      <td>3.0</td>\n",
              "      <td>1.4</td>\n",
              "      <td>0.2</td>\n",
              "      <td>Iris-setosa</td>\n",
              "    </tr>\n",
              "    <tr>\n",
              "      <th>2</th>\n",
              "      <td>3</td>\n",
              "      <td>4.7</td>\n",
              "      <td>3.2</td>\n",
              "      <td>1.3</td>\n",
              "      <td>0.2</td>\n",
              "      <td>Iris-setosa</td>\n",
              "    </tr>\n",
              "    <tr>\n",
              "      <th>3</th>\n",
              "      <td>4</td>\n",
              "      <td>4.6</td>\n",
              "      <td>3.1</td>\n",
              "      <td>1.5</td>\n",
              "      <td>0.2</td>\n",
              "      <td>Iris-setosa</td>\n",
              "    </tr>\n",
              "    <tr>\n",
              "      <th>4</th>\n",
              "      <td>5</td>\n",
              "      <td>5.0</td>\n",
              "      <td>3.6</td>\n",
              "      <td>1.4</td>\n",
              "      <td>0.2</td>\n",
              "      <td>Iris-setosa</td>\n",
              "    </tr>\n",
              "  </tbody>\n",
              "</table>\n",
              "</div>"
            ],
            "text/plain": [
              "   Id  SepalLengthCm  SepalWidthCm  PetalLengthCm  PetalWidthCm      Species\n",
              "0   1            5.1           3.5            1.4           0.2  Iris-setosa\n",
              "1   2            4.9           3.0            1.4           0.2  Iris-setosa\n",
              "2   3            4.7           3.2            1.3           0.2  Iris-setosa\n",
              "3   4            4.6           3.1            1.5           0.2  Iris-setosa\n",
              "4   5            5.0           3.6            1.4           0.2  Iris-setosa"
            ]
          },
          "metadata": {
            "tags": []
          },
          "execution_count": 3
        }
      ]
    },
    {
      "cell_type": "code",
      "metadata": {
        "id": "nAEh_GTN0kRh"
      },
      "source": [
        "# 1. Separate the predictor and label columns\r\n",
        "# 2. Encode the label column using one hot encoding\r\n",
        "# 3. Perform train - test split\r\n",
        "\r\n",
        "X = data[['SepalLengthCm', 'SepalWidthCm', 'PetalLengthCm', 'PetalWidthCm']]\r\n",
        "y = data['Species']\r\n",
        "\r\n",
        "encoder =  LabelEncoder()\r\n",
        "y = encoder.fit_transform(y)\r\n",
        "y = pd.get_dummies(y).values\r\n",
        "\r\n",
        "X_train, X_test, y_train, y_test = train_test_split(X, y, test_size = 0.2, random_state = 123) "
      ],
      "execution_count": null,
      "outputs": []
    },
    {
      "cell_type": "code",
      "metadata": {
        "colab": {
          "base_uri": "https://localhost:8080/"
        },
        "id": "Fz5OEAaV1sLo",
        "outputId": "5c33e72b-142b-468d-882a-632c68db113d"
      },
      "source": [
        "# Define and compose model\r\n",
        "\r\n",
        "model_1 = Sequential()\r\n",
        "\r\n",
        "# Define the layers\r\n",
        "model_1.add(Dense(20, input_shape = (4, ), activation = 'tanh'))\r\n",
        "model_1.add(Dense(10, activation = 'tanh'))\r\n",
        "model_1.add(Dense(10, activation = 'tanh'))\r\n",
        "model_1.add(Dense(3, activation = 'softmax'))\r\n",
        "\r\n",
        "# Compile the model with the required optimizer, loss function and metric\r\n",
        "model_1.compile(Adam(lr = 0.04), 'categorical_crossentropy', metrics = ['accuracy'])\r\n",
        "\r\n",
        "# Print the model summary\r\n",
        "model_1.summary()"
      ],
      "execution_count": null,
      "outputs": [
        {
          "output_type": "stream",
          "text": [
            "Model: \"sequential\"\n",
            "_________________________________________________________________\n",
            "Layer (type)                 Output Shape              Param #   \n",
            "=================================================================\n",
            "dense (Dense)                (None, 20)                100       \n",
            "_________________________________________________________________\n",
            "dense_1 (Dense)              (None, 10)                210       \n",
            "_________________________________________________________________\n",
            "dense_2 (Dense)              (None, 10)                110       \n",
            "_________________________________________________________________\n",
            "dense_3 (Dense)              (None, 3)                 33        \n",
            "=================================================================\n",
            "Total params: 453\n",
            "Trainable params: 453\n",
            "Non-trainable params: 0\n",
            "_________________________________________________________________\n"
          ],
          "name": "stdout"
        }
      ]
    },
    {
      "cell_type": "code",
      "metadata": {
        "colab": {
          "base_uri": "https://localhost:8080/"
        },
        "id": "Rh8kLgCH3ArM",
        "outputId": "24fd58d8-14e3-4520-b71f-db8bfff23342"
      },
      "source": [
        "# Fit the model\r\n",
        "\r\n",
        "history_1 = model_1.fit(X_train, y_train, epochs = 100, validation_data = (X_test, y_test))"
      ],
      "execution_count": null,
      "outputs": [
        {
          "output_type": "stream",
          "text": [
            "Epoch 1/100\n",
            "4/4 [==============================] - 1s 152ms/step - loss: 1.2280 - accuracy: 0.3556 - val_loss: 0.8389 - val_accuracy: 0.8333\n",
            "Epoch 2/100\n",
            "4/4 [==============================] - 0s 13ms/step - loss: 0.7936 - accuracy: 0.7848 - val_loss: 0.5158 - val_accuracy: 0.6333\n",
            "Epoch 3/100\n",
            "4/4 [==============================] - 0s 15ms/step - loss: 0.5088 - accuracy: 0.6810 - val_loss: 0.3306 - val_accuracy: 0.9667\n",
            "Epoch 4/100\n",
            "4/4 [==============================] - 0s 12ms/step - loss: 0.3783 - accuracy: 0.9204 - val_loss: 0.2236 - val_accuracy: 1.0000\n",
            "Epoch 5/100\n",
            "4/4 [==============================] - 0s 13ms/step - loss: 0.2543 - accuracy: 0.9538 - val_loss: 0.1595 - val_accuracy: 0.9667\n",
            "Epoch 6/100\n",
            "4/4 [==============================] - 0s 15ms/step - loss: 0.1509 - accuracy: 0.9417 - val_loss: 0.0813 - val_accuracy: 0.9667\n",
            "Epoch 7/100\n",
            "4/4 [==============================] - 0s 53ms/step - loss: 0.1703 - accuracy: 0.9352 - val_loss: 0.6269 - val_accuracy: 0.8000\n",
            "Epoch 8/100\n",
            "4/4 [==============================] - 0s 13ms/step - loss: 0.2178 - accuracy: 0.9052 - val_loss: 0.4256 - val_accuracy: 0.8333\n",
            "Epoch 9/100\n",
            "4/4 [==============================] - 0s 13ms/step - loss: 0.2788 - accuracy: 0.8971 - val_loss: 0.8577 - val_accuracy: 0.7333\n",
            "Epoch 10/100\n",
            "4/4 [==============================] - 0s 13ms/step - loss: 0.3452 - accuracy: 0.9056 - val_loss: 0.4447 - val_accuracy: 0.8000\n",
            "Epoch 11/100\n",
            "4/4 [==============================] - 0s 13ms/step - loss: 0.3432 - accuracy: 0.8594 - val_loss: 0.3758 - val_accuracy: 0.8333\n",
            "Epoch 12/100\n",
            "4/4 [==============================] - 0s 14ms/step - loss: 0.2584 - accuracy: 0.8879 - val_loss: 0.1130 - val_accuracy: 0.9667\n",
            "Epoch 13/100\n",
            "4/4 [==============================] - 0s 13ms/step - loss: 0.1283 - accuracy: 0.9477 - val_loss: 0.0916 - val_accuracy: 0.9667\n",
            "Epoch 14/100\n",
            "4/4 [==============================] - 0s 14ms/step - loss: 0.1039 - accuracy: 0.9700 - val_loss: 0.1164 - val_accuracy: 0.9667\n",
            "Epoch 15/100\n",
            "4/4 [==============================] - 0s 16ms/step - loss: 0.0792 - accuracy: 0.9825 - val_loss: 0.0906 - val_accuracy: 0.9667\n",
            "Epoch 16/100\n",
            "4/4 [==============================] - 0s 15ms/step - loss: 0.1605 - accuracy: 0.9202 - val_loss: 0.1361 - val_accuracy: 0.9667\n",
            "Epoch 17/100\n",
            "4/4 [==============================] - 0s 18ms/step - loss: 0.0936 - accuracy: 0.9656 - val_loss: 0.1266 - val_accuracy: 0.9667\n",
            "Epoch 18/100\n",
            "4/4 [==============================] - 0s 14ms/step - loss: 0.1321 - accuracy: 0.9475 - val_loss: 0.1161 - val_accuracy: 0.9667\n",
            "Epoch 19/100\n",
            "4/4 [==============================] - 0s 14ms/step - loss: 0.0790 - accuracy: 0.9806 - val_loss: 0.0917 - val_accuracy: 0.9667\n",
            "Epoch 20/100\n",
            "4/4 [==============================] - 0s 13ms/step - loss: 0.0558 - accuracy: 0.9765 - val_loss: 0.2174 - val_accuracy: 0.9000\n",
            "Epoch 21/100\n",
            "4/4 [==============================] - 0s 14ms/step - loss: 0.0795 - accuracy: 0.9690 - val_loss: 0.0981 - val_accuracy: 0.9667\n",
            "Epoch 22/100\n",
            "4/4 [==============================] - 0s 14ms/step - loss: 0.1184 - accuracy: 0.9479 - val_loss: 0.0706 - val_accuracy: 0.9667\n",
            "Epoch 23/100\n",
            "4/4 [==============================] - 0s 13ms/step - loss: 0.0655 - accuracy: 0.9815 - val_loss: 0.0942 - val_accuracy: 0.9667\n",
            "Epoch 24/100\n",
            "4/4 [==============================] - 0s 14ms/step - loss: 0.0656 - accuracy: 0.9825 - val_loss: 0.0779 - val_accuracy: 0.9667\n",
            "Epoch 25/100\n",
            "4/4 [==============================] - 0s 16ms/step - loss: 0.1062 - accuracy: 0.9650 - val_loss: 0.1958 - val_accuracy: 0.9000\n",
            "Epoch 26/100\n",
            "4/4 [==============================] - 0s 15ms/step - loss: 0.0701 - accuracy: 0.9719 - val_loss: 0.0688 - val_accuracy: 0.9667\n",
            "Epoch 27/100\n",
            "4/4 [==============================] - 0s 13ms/step - loss: 0.0821 - accuracy: 0.9573 - val_loss: 0.1310 - val_accuracy: 0.9333\n",
            "Epoch 28/100\n",
            "4/4 [==============================] - 0s 13ms/step - loss: 0.0618 - accuracy: 0.9794 - val_loss: 0.0665 - val_accuracy: 0.9667\n",
            "Epoch 29/100\n",
            "4/4 [==============================] - 0s 14ms/step - loss: 0.0691 - accuracy: 0.9713 - val_loss: 0.1913 - val_accuracy: 0.9000\n",
            "Epoch 30/100\n",
            "4/4 [==============================] - 0s 18ms/step - loss: 0.0526 - accuracy: 0.9892 - val_loss: 0.0669 - val_accuracy: 0.9667\n",
            "Epoch 31/100\n",
            "4/4 [==============================] - 0s 14ms/step - loss: 0.0393 - accuracy: 0.9913 - val_loss: 0.0758 - val_accuracy: 0.9667\n",
            "Epoch 32/100\n",
            "4/4 [==============================] - 0s 12ms/step - loss: 0.0544 - accuracy: 0.9881 - val_loss: 0.1132 - val_accuracy: 0.9667\n",
            "Epoch 33/100\n",
            "4/4 [==============================] - 0s 14ms/step - loss: 0.0682 - accuracy: 0.9658 - val_loss: 0.5651 - val_accuracy: 0.8333\n",
            "Epoch 34/100\n",
            "4/4 [==============================] - 0s 15ms/step - loss: 0.2395 - accuracy: 0.9290 - val_loss: 0.2511 - val_accuracy: 0.8667\n",
            "Epoch 35/100\n",
            "4/4 [==============================] - 0s 15ms/step - loss: 0.1678 - accuracy: 0.9329 - val_loss: 0.2534 - val_accuracy: 0.9000\n",
            "Epoch 36/100\n",
            "4/4 [==============================] - 0s 14ms/step - loss: 0.1424 - accuracy: 0.9415 - val_loss: 0.0823 - val_accuracy: 0.9667\n",
            "Epoch 37/100\n",
            "4/4 [==============================] - 0s 16ms/step - loss: 0.0802 - accuracy: 0.9742 - val_loss: 0.0838 - val_accuracy: 0.9667\n",
            "Epoch 38/100\n",
            "4/4 [==============================] - 0s 15ms/step - loss: 0.0473 - accuracy: 0.9765 - val_loss: 0.2832 - val_accuracy: 0.9000\n",
            "Epoch 39/100\n",
            "4/4 [==============================] - 0s 17ms/step - loss: 0.0681 - accuracy: 0.9615 - val_loss: 0.1323 - val_accuracy: 0.9667\n",
            "Epoch 40/100\n",
            "4/4 [==============================] - 0s 15ms/step - loss: 0.2121 - accuracy: 0.9323 - val_loss: 0.2717 - val_accuracy: 0.9000\n",
            "Epoch 41/100\n",
            "4/4 [==============================] - 0s 19ms/step - loss: 0.0602 - accuracy: 0.9848 - val_loss: 0.0979 - val_accuracy: 0.9667\n",
            "Epoch 42/100\n",
            "4/4 [==============================] - 0s 17ms/step - loss: 0.1046 - accuracy: 0.9690 - val_loss: 0.0888 - val_accuracy: 0.9667\n",
            "Epoch 43/100\n",
            "4/4 [==============================] - 0s 14ms/step - loss: 0.0898 - accuracy: 0.9658 - val_loss: 0.0796 - val_accuracy: 0.9667\n",
            "Epoch 44/100\n",
            "4/4 [==============================] - 0s 19ms/step - loss: 0.0772 - accuracy: 0.9658 - val_loss: 0.0697 - val_accuracy: 0.9667\n",
            "Epoch 45/100\n",
            "4/4 [==============================] - 0s 16ms/step - loss: 0.0389 - accuracy: 0.9915 - val_loss: 0.0996 - val_accuracy: 0.9667\n",
            "Epoch 46/100\n",
            "4/4 [==============================] - 0s 14ms/step - loss: 0.0569 - accuracy: 0.9819 - val_loss: 0.0835 - val_accuracy: 0.9667\n",
            "Epoch 47/100\n",
            "4/4 [==============================] - 0s 14ms/step - loss: 0.0554 - accuracy: 0.9848 - val_loss: 0.0625 - val_accuracy: 0.9667\n",
            "Epoch 48/100\n",
            "4/4 [==============================] - 0s 15ms/step - loss: 0.0848 - accuracy: 0.9625 - val_loss: 0.0925 - val_accuracy: 0.9667\n",
            "Epoch 49/100\n",
            "4/4 [==============================] - 0s 13ms/step - loss: 0.1096 - accuracy: 0.9646 - val_loss: 0.1620 - val_accuracy: 0.9000\n",
            "Epoch 50/100\n",
            "4/4 [==============================] - 0s 13ms/step - loss: 0.0753 - accuracy: 0.9690 - val_loss: 0.1545 - val_accuracy: 0.9667\n",
            "Epoch 51/100\n",
            "4/4 [==============================] - 0s 14ms/step - loss: 0.1314 - accuracy: 0.9681 - val_loss: 0.3281 - val_accuracy: 0.9000\n",
            "Epoch 52/100\n",
            "4/4 [==============================] - 0s 17ms/step - loss: 0.1093 - accuracy: 0.9658 - val_loss: 0.1072 - val_accuracy: 0.9667\n",
            "Epoch 53/100\n",
            "4/4 [==============================] - 0s 13ms/step - loss: 0.1280 - accuracy: 0.9483 - val_loss: 0.0816 - val_accuracy: 0.9667\n",
            "Epoch 54/100\n",
            "4/4 [==============================] - 0s 14ms/step - loss: 0.0976 - accuracy: 0.9783 - val_loss: 0.0784 - val_accuracy: 0.9667\n",
            "Epoch 55/100\n",
            "4/4 [==============================] - 0s 14ms/step - loss: 0.1177 - accuracy: 0.9538 - val_loss: 0.0851 - val_accuracy: 0.9667\n",
            "Epoch 56/100\n",
            "4/4 [==============================] - 0s 15ms/step - loss: 0.1116 - accuracy: 0.9752 - val_loss: 0.2335 - val_accuracy: 0.9000\n",
            "Epoch 57/100\n",
            "4/4 [==============================] - 0s 15ms/step - loss: 0.0541 - accuracy: 0.9946 - val_loss: 0.0922 - val_accuracy: 0.9667\n",
            "Epoch 58/100\n",
            "4/4 [==============================] - 0s 15ms/step - loss: 0.0825 - accuracy: 0.9552 - val_loss: 0.0913 - val_accuracy: 0.9667\n",
            "Epoch 59/100\n",
            "4/4 [==============================] - 0s 14ms/step - loss: 0.0789 - accuracy: 0.9713 - val_loss: 0.1844 - val_accuracy: 0.9000\n",
            "Epoch 60/100\n",
            "4/4 [==============================] - 0s 12ms/step - loss: 0.0465 - accuracy: 0.9798 - val_loss: 0.0678 - val_accuracy: 0.9667\n",
            "Epoch 61/100\n",
            "4/4 [==============================] - 0s 53ms/step - loss: 0.0401 - accuracy: 0.9860 - val_loss: 0.2423 - val_accuracy: 0.9000\n",
            "Epoch 62/100\n",
            "4/4 [==============================] - 0s 15ms/step - loss: 0.0639 - accuracy: 0.9785 - val_loss: 0.0755 - val_accuracy: 0.9667\n",
            "Epoch 63/100\n",
            "4/4 [==============================] - 0s 15ms/step - loss: 0.0383 - accuracy: 0.9879 - val_loss: 0.0930 - val_accuracy: 0.9667\n",
            "Epoch 64/100\n",
            "4/4 [==============================] - 0s 14ms/step - loss: 0.0805 - accuracy: 0.9721 - val_loss: 0.0746 - val_accuracy: 0.9667\n",
            "Epoch 65/100\n",
            "4/4 [==============================] - 0s 13ms/step - loss: 0.0369 - accuracy: 0.9915 - val_loss: 0.1426 - val_accuracy: 0.9000\n",
            "Epoch 66/100\n",
            "4/4 [==============================] - 0s 13ms/step - loss: 0.0467 - accuracy: 0.9881 - val_loss: 0.0739 - val_accuracy: 0.9667\n",
            "Epoch 67/100\n",
            "4/4 [==============================] - 0s 14ms/step - loss: 0.0359 - accuracy: 0.9913 - val_loss: 0.2104 - val_accuracy: 0.9000\n",
            "Epoch 68/100\n",
            "4/4 [==============================] - 0s 13ms/step - loss: 0.0708 - accuracy: 0.9619 - val_loss: 0.0739 - val_accuracy: 0.9667\n",
            "Epoch 69/100\n",
            "4/4 [==============================] - 0s 15ms/step - loss: 0.0668 - accuracy: 0.9681 - val_loss: 0.2218 - val_accuracy: 0.9000\n",
            "Epoch 70/100\n",
            "4/4 [==============================] - 0s 16ms/step - loss: 0.0480 - accuracy: 0.9767 - val_loss: 0.0714 - val_accuracy: 0.9667\n",
            "Epoch 71/100\n",
            "4/4 [==============================] - 0s 13ms/step - loss: 0.0621 - accuracy: 0.9767 - val_loss: 0.1528 - val_accuracy: 0.9333\n",
            "Epoch 72/100\n",
            "4/4 [==============================] - 0s 19ms/step - loss: 0.0366 - accuracy: 0.9915 - val_loss: 0.0751 - val_accuracy: 0.9333\n",
            "Epoch 73/100\n",
            "4/4 [==============================] - 0s 14ms/step - loss: 0.0559 - accuracy: 0.9852 - val_loss: 0.2280 - val_accuracy: 0.9000\n",
            "Epoch 74/100\n",
            "4/4 [==============================] - 0s 13ms/step - loss: 0.0457 - accuracy: 0.9819 - val_loss: 0.0718 - val_accuracy: 0.9667\n",
            "Epoch 75/100\n",
            "4/4 [==============================] - 0s 15ms/step - loss: 0.0966 - accuracy: 0.9690 - val_loss: 0.1453 - val_accuracy: 0.9333\n",
            "Epoch 76/100\n",
            "4/4 [==============================] - 0s 16ms/step - loss: 0.0294 - accuracy: 0.9967 - val_loss: 0.2400 - val_accuracy: 0.9000\n",
            "Epoch 77/100\n",
            "4/4 [==============================] - 0s 18ms/step - loss: 0.0606 - accuracy: 0.9733 - val_loss: 0.0721 - val_accuracy: 0.9667\n",
            "Epoch 78/100\n",
            "4/4 [==============================] - 0s 15ms/step - loss: 0.0299 - accuracy: 0.9860 - val_loss: 0.1951 - val_accuracy: 0.9000\n",
            "Epoch 79/100\n",
            "4/4 [==============================] - 0s 14ms/step - loss: 0.0532 - accuracy: 0.9713 - val_loss: 0.0782 - val_accuracy: 0.9667\n",
            "Epoch 80/100\n",
            "4/4 [==============================] - 0s 15ms/step - loss: 0.0552 - accuracy: 0.9713 - val_loss: 0.3345 - val_accuracy: 0.9000\n",
            "Epoch 81/100\n",
            "4/4 [==============================] - 0s 15ms/step - loss: 0.1249 - accuracy: 0.9644 - val_loss: 0.1744 - val_accuracy: 0.9333\n",
            "Epoch 82/100\n",
            "4/4 [==============================] - 0s 14ms/step - loss: 0.1246 - accuracy: 0.9552 - val_loss: 0.3033 - val_accuracy: 0.9000\n",
            "Epoch 83/100\n",
            "4/4 [==============================] - 0s 14ms/step - loss: 0.0914 - accuracy: 0.9767 - val_loss: 0.1047 - val_accuracy: 0.9667\n",
            "Epoch 84/100\n",
            "4/4 [==============================] - 0s 13ms/step - loss: 0.1085 - accuracy: 0.9610 - val_loss: 0.1286 - val_accuracy: 0.9333\n",
            "Epoch 85/100\n",
            "4/4 [==============================] - 0s 13ms/step - loss: 0.0652 - accuracy: 0.9881 - val_loss: 0.1797 - val_accuracy: 0.9000\n",
            "Epoch 86/100\n",
            "4/4 [==============================] - 0s 15ms/step - loss: 0.0400 - accuracy: 0.9913 - val_loss: 0.0727 - val_accuracy: 0.9667\n",
            "Epoch 87/100\n",
            "4/4 [==============================] - 0s 14ms/step - loss: 0.0250 - accuracy: 0.9946 - val_loss: 0.2683 - val_accuracy: 0.9000\n",
            "Epoch 88/100\n",
            "4/4 [==============================] - 0s 14ms/step - loss: 0.0475 - accuracy: 0.9744 - val_loss: 0.2507 - val_accuracy: 0.9000\n",
            "Epoch 89/100\n",
            "4/4 [==============================] - 0s 16ms/step - loss: 0.1617 - accuracy: 0.9277 - val_loss: 0.6095 - val_accuracy: 0.9000\n",
            "Epoch 90/100\n",
            "4/4 [==============================] - 0s 15ms/step - loss: 0.1557 - accuracy: 0.9681 - val_loss: 0.2009 - val_accuracy: 0.9000\n",
            "Epoch 91/100\n",
            "4/4 [==============================] - 0s 14ms/step - loss: 0.2469 - accuracy: 0.9206 - val_loss: 0.1006 - val_accuracy: 0.9333\n",
            "Epoch 92/100\n",
            "4/4 [==============================] - 0s 15ms/step - loss: 0.0998 - accuracy: 0.9646 - val_loss: 0.1010 - val_accuracy: 0.9667\n",
            "Epoch 93/100\n",
            "4/4 [==============================] - 0s 17ms/step - loss: 0.0740 - accuracy: 0.9596 - val_loss: 0.1149 - val_accuracy: 0.9667\n",
            "Epoch 94/100\n",
            "4/4 [==============================] - 0s 15ms/step - loss: 0.1211 - accuracy: 0.9565 - val_loss: 0.0889 - val_accuracy: 0.9667\n",
            "Epoch 95/100\n",
            "4/4 [==============================] - 0s 13ms/step - loss: 0.0415 - accuracy: 0.9860 - val_loss: 0.1398 - val_accuracy: 0.9333\n",
            "Epoch 96/100\n",
            "4/4 [==============================] - 0s 14ms/step - loss: 0.0289 - accuracy: 0.9946 - val_loss: 0.0949 - val_accuracy: 0.9667\n",
            "Epoch 97/100\n",
            "4/4 [==============================] - 0s 15ms/step - loss: 0.0345 - accuracy: 0.9915 - val_loss: 0.1883 - val_accuracy: 0.9000\n",
            "Epoch 98/100\n",
            "4/4 [==============================] - 0s 17ms/step - loss: 0.0487 - accuracy: 0.9852 - val_loss: 0.1029 - val_accuracy: 0.9667\n",
            "Epoch 99/100\n",
            "4/4 [==============================] - 0s 16ms/step - loss: 0.0269 - accuracy: 0.9946 - val_loss: 0.4147 - val_accuracy: 0.9000\n",
            "Epoch 100/100\n",
            "4/4 [==============================] - 0s 14ms/step - loss: 0.0612 - accuracy: 0.9765 - val_loss: 0.0739 - val_accuracy: 0.9667\n"
          ],
          "name": "stdout"
        }
      ]
    },
    {
      "cell_type": "code",
      "metadata": {
        "id": "C6DaNZFe45FV"
      },
      "source": [
        "# Saving the simple model in  format\r\n",
        "\r\n",
        "model_1.save(\"model_1.h5\")"
      ],
      "execution_count": null,
      "outputs": []
    },
    {
      "cell_type": "code",
      "metadata": {
        "colab": {
          "base_uri": "https://localhost:8080/"
        },
        "id": "fk9Mr-ZVBST8",
        "outputId": "c1816d6b-a3f8-4dfb-f46b-5179d28f6770"
      },
      "source": [
        "# Convert the keras model to tensorflow.js\r\n",
        "\r\n",
        "!pip install tensorflowjs "
      ],
      "execution_count": null,
      "outputs": [
        {
          "output_type": "stream",
          "text": [
            "Collecting tensorflowjs\n",
            "\u001b[?25l  Downloading https://files.pythonhosted.org/packages/0f/55/e84ad85e325d239e46b7630a4be48cea9909bf57bd082cd5fe0efe7006de/tensorflowjs-2.8.2-py3-none-any.whl (63kB)\n",
            "\r\u001b[K     |█████▏                          | 10kB 15.9MB/s eta 0:00:01\r\u001b[K     |██████████▍                     | 20kB 20.9MB/s eta 0:00:01\r\u001b[K     |███████████████▌                | 30kB 10.4MB/s eta 0:00:01\r\u001b[K     |████████████████████▊           | 40kB 8.6MB/s eta 0:00:01\r\u001b[K     |█████████████████████████▉      | 51kB 4.5MB/s eta 0:00:01\r\u001b[K     |███████████████████████████████ | 61kB 4.8MB/s eta 0:00:01\r\u001b[K     |████████████████████████████████| 71kB 3.6MB/s \n",
            "\u001b[?25hCollecting tensorflow-hub<0.10,>=0.7.0\n",
            "\u001b[?25l  Downloading https://files.pythonhosted.org/packages/ac/83/a7df82744a794107641dad1decaad017d82e25f0e1f761ac9204829eef96/tensorflow_hub-0.9.0-py2.py3-none-any.whl (103kB)\n",
            "\u001b[K     |████████████████████████████████| 112kB 7.6MB/s \n",
            "\u001b[?25hRequirement already satisfied: tensorflow<3,>=2.1.0 in /usr/local/lib/python3.6/dist-packages (from tensorflowjs) (2.4.0)\n",
            "Requirement already satisfied: h5py<3,>=2.8.0 in /usr/local/lib/python3.6/dist-packages (from tensorflowjs) (2.10.0)\n",
            "Requirement already satisfied: six<2,>=1.12.0 in /usr/local/lib/python3.6/dist-packages (from tensorflowjs) (1.15.0)\n",
            "Requirement already satisfied: numpy>=1.12.0 in /usr/local/lib/python3.6/dist-packages (from tensorflow-hub<0.10,>=0.7.0->tensorflowjs) (1.19.4)\n",
            "Requirement already satisfied: protobuf>=3.8.0 in /usr/local/lib/python3.6/dist-packages (from tensorflow-hub<0.10,>=0.7.0->tensorflowjs) (3.12.4)\n",
            "Requirement already satisfied: wheel~=0.35 in /usr/local/lib/python3.6/dist-packages (from tensorflow<3,>=2.1.0->tensorflowjs) (0.36.2)\n",
            "Requirement already satisfied: tensorboard~=2.4 in /usr/local/lib/python3.6/dist-packages (from tensorflow<3,>=2.1.0->tensorflowjs) (2.4.0)\n",
            "Requirement already satisfied: astunparse~=1.6.3 in /usr/local/lib/python3.6/dist-packages (from tensorflow<3,>=2.1.0->tensorflowjs) (1.6.3)\n",
            "Requirement already satisfied: google-pasta~=0.2 in /usr/local/lib/python3.6/dist-packages (from tensorflow<3,>=2.1.0->tensorflowjs) (0.2.0)\n",
            "Requirement already satisfied: flatbuffers~=1.12.0 in /usr/local/lib/python3.6/dist-packages (from tensorflow<3,>=2.1.0->tensorflowjs) (1.12)\n",
            "Requirement already satisfied: typing-extensions~=3.7.4 in /usr/local/lib/python3.6/dist-packages (from tensorflow<3,>=2.1.0->tensorflowjs) (3.7.4.3)\n",
            "Requirement already satisfied: keras-preprocessing~=1.1.2 in /usr/local/lib/python3.6/dist-packages (from tensorflow<3,>=2.1.0->tensorflowjs) (1.1.2)\n",
            "Requirement already satisfied: wrapt~=1.12.1 in /usr/local/lib/python3.6/dist-packages (from tensorflow<3,>=2.1.0->tensorflowjs) (1.12.1)\n",
            "Requirement already satisfied: tensorflow-estimator<2.5.0,>=2.4.0rc0 in /usr/local/lib/python3.6/dist-packages (from tensorflow<3,>=2.1.0->tensorflowjs) (2.4.0)\n",
            "Requirement already satisfied: grpcio~=1.32.0 in /usr/local/lib/python3.6/dist-packages (from tensorflow<3,>=2.1.0->tensorflowjs) (1.32.0)\n",
            "Requirement already satisfied: opt-einsum~=3.3.0 in /usr/local/lib/python3.6/dist-packages (from tensorflow<3,>=2.1.0->tensorflowjs) (3.3.0)\n",
            "Requirement already satisfied: gast==0.3.3 in /usr/local/lib/python3.6/dist-packages (from tensorflow<3,>=2.1.0->tensorflowjs) (0.3.3)\n",
            "Requirement already satisfied: termcolor~=1.1.0 in /usr/local/lib/python3.6/dist-packages (from tensorflow<3,>=2.1.0->tensorflowjs) (1.1.0)\n",
            "Requirement already satisfied: absl-py~=0.10 in /usr/local/lib/python3.6/dist-packages (from tensorflow<3,>=2.1.0->tensorflowjs) (0.10.0)\n",
            "Requirement already satisfied: setuptools in /usr/local/lib/python3.6/dist-packages (from protobuf>=3.8.0->tensorflow-hub<0.10,>=0.7.0->tensorflowjs) (51.0.0)\n",
            "Requirement already satisfied: requests<3,>=2.21.0 in /usr/local/lib/python3.6/dist-packages (from tensorboard~=2.4->tensorflow<3,>=2.1.0->tensorflowjs) (2.23.0)\n",
            "Requirement already satisfied: tensorboard-plugin-wit>=1.6.0 in /usr/local/lib/python3.6/dist-packages (from tensorboard~=2.4->tensorflow<3,>=2.1.0->tensorflowjs) (1.7.0)\n",
            "Requirement already satisfied: markdown>=2.6.8 in /usr/local/lib/python3.6/dist-packages (from tensorboard~=2.4->tensorflow<3,>=2.1.0->tensorflowjs) (3.3.3)\n",
            "Requirement already satisfied: werkzeug>=0.11.15 in /usr/local/lib/python3.6/dist-packages (from tensorboard~=2.4->tensorflow<3,>=2.1.0->tensorflowjs) (1.0.1)\n",
            "Requirement already satisfied: google-auth-oauthlib<0.5,>=0.4.1 in /usr/local/lib/python3.6/dist-packages (from tensorboard~=2.4->tensorflow<3,>=2.1.0->tensorflowjs) (0.4.2)\n",
            "Requirement already satisfied: google-auth<2,>=1.6.3 in /usr/local/lib/python3.6/dist-packages (from tensorboard~=2.4->tensorflow<3,>=2.1.0->tensorflowjs) (1.17.2)\n",
            "Requirement already satisfied: idna<3,>=2.5 in /usr/local/lib/python3.6/dist-packages (from requests<3,>=2.21.0->tensorboard~=2.4->tensorflow<3,>=2.1.0->tensorflowjs) (2.10)\n",
            "Requirement already satisfied: urllib3!=1.25.0,!=1.25.1,<1.26,>=1.21.1 in /usr/local/lib/python3.6/dist-packages (from requests<3,>=2.21.0->tensorboard~=2.4->tensorflow<3,>=2.1.0->tensorflowjs) (1.24.3)\n",
            "Requirement already satisfied: certifi>=2017.4.17 in /usr/local/lib/python3.6/dist-packages (from requests<3,>=2.21.0->tensorboard~=2.4->tensorflow<3,>=2.1.0->tensorflowjs) (2020.12.5)\n",
            "Requirement already satisfied: chardet<4,>=3.0.2 in /usr/local/lib/python3.6/dist-packages (from requests<3,>=2.21.0->tensorboard~=2.4->tensorflow<3,>=2.1.0->tensorflowjs) (3.0.4)\n",
            "Requirement already satisfied: importlib-metadata; python_version < \"3.8\" in /usr/local/lib/python3.6/dist-packages (from markdown>=2.6.8->tensorboard~=2.4->tensorflow<3,>=2.1.0->tensorflowjs) (3.3.0)\n",
            "Requirement already satisfied: requests-oauthlib>=0.7.0 in /usr/local/lib/python3.6/dist-packages (from google-auth-oauthlib<0.5,>=0.4.1->tensorboard~=2.4->tensorflow<3,>=2.1.0->tensorflowjs) (1.3.0)\n",
            "Requirement already satisfied: pyasn1-modules>=0.2.1 in /usr/local/lib/python3.6/dist-packages (from google-auth<2,>=1.6.3->tensorboard~=2.4->tensorflow<3,>=2.1.0->tensorflowjs) (0.2.8)\n",
            "Requirement already satisfied: rsa<5,>=3.1.4; python_version >= \"3\" in /usr/local/lib/python3.6/dist-packages (from google-auth<2,>=1.6.3->tensorboard~=2.4->tensorflow<3,>=2.1.0->tensorflowjs) (4.6)\n",
            "Requirement already satisfied: cachetools<5.0,>=2.0.0 in /usr/local/lib/python3.6/dist-packages (from google-auth<2,>=1.6.3->tensorboard~=2.4->tensorflow<3,>=2.1.0->tensorflowjs) (4.2.0)\n",
            "Requirement already satisfied: zipp>=0.5 in /usr/local/lib/python3.6/dist-packages (from importlib-metadata; python_version < \"3.8\"->markdown>=2.6.8->tensorboard~=2.4->tensorflow<3,>=2.1.0->tensorflowjs) (3.4.0)\n",
            "Requirement already satisfied: oauthlib>=3.0.0 in /usr/local/lib/python3.6/dist-packages (from requests-oauthlib>=0.7.0->google-auth-oauthlib<0.5,>=0.4.1->tensorboard~=2.4->tensorflow<3,>=2.1.0->tensorflowjs) (3.1.0)\n",
            "Requirement already satisfied: pyasn1<0.5.0,>=0.4.6 in /usr/local/lib/python3.6/dist-packages (from pyasn1-modules>=0.2.1->google-auth<2,>=1.6.3->tensorboard~=2.4->tensorflow<3,>=2.1.0->tensorflowjs) (0.4.8)\n",
            "Installing collected packages: tensorflow-hub, tensorflowjs\n",
            "  Found existing installation: tensorflow-hub 0.10.0\n",
            "    Uninstalling tensorflow-hub-0.10.0:\n",
            "      Successfully uninstalled tensorflow-hub-0.10.0\n",
            "Successfully installed tensorflow-hub-0.9.0 tensorflowjs-2.8.2\n"
          ],
          "name": "stdout"
        }
      ]
    },
    {
      "cell_type": "code",
      "metadata": {
        "colab": {
          "base_uri": "https://localhost:8080/"
        },
        "id": "u_bEOm6EBarc",
        "outputId": "eae60903-3d95-4cbc-b730-1b676a5e1046"
      },
      "source": [
        "# Convert the model to tfjs\r\n",
        "\r\n",
        "!mkdir model_1\r\n",
        "\r\n",
        "!tensorflowjs_converter --input_format keras model_1.h5 model/"
      ],
      "execution_count": null,
      "outputs": [
        {
          "output_type": "stream",
          "text": [
            "2021-01-03 06:55:15.724983: I tensorflow/stream_executor/platform/default/dso_loader.cc:49] Successfully opened dynamic library libcudart.so.10.1\n"
          ],
          "name": "stdout"
        }
      ]
    },
    {
      "cell_type": "code",
      "metadata": {
        "colab": {
          "base_uri": "https://localhost:8080/",
          "height": 72
        },
        "id": "TZhwfWNmB3nY",
        "outputId": "b1a0615d-3579-4c71-c996-c6f54ba17770"
      },
      "source": [
        "# Zip and download the model\r\n",
        "\r\n",
        "!zip -r model.zip model \r\n",
        "\r\n",
        "from google.colab import files\r\n",
        "files.download('model.zip')"
      ],
      "execution_count": null,
      "outputs": [
        {
          "output_type": "stream",
          "text": [
            "  adding: model/ (stored 0%)\n",
            "  adding: model/group1-shard1of1.bin (deflated 4%)\n",
            "  adding: model/model.json (deflated 78%)\n"
          ],
          "name": "stdout"
        },
        {
          "output_type": "display_data",
          "data": {
            "application/javascript": [
              "\n",
              "    async function download(id, filename, size) {\n",
              "      if (!google.colab.kernel.accessAllowed) {\n",
              "        return;\n",
              "      }\n",
              "      const div = document.createElement('div');\n",
              "      const label = document.createElement('label');\n",
              "      label.textContent = `Downloading \"${filename}\": `;\n",
              "      div.appendChild(label);\n",
              "      const progress = document.createElement('progress');\n",
              "      progress.max = size;\n",
              "      div.appendChild(progress);\n",
              "      document.body.appendChild(div);\n",
              "\n",
              "      const buffers = [];\n",
              "      let downloaded = 0;\n",
              "\n",
              "      const channel = await google.colab.kernel.comms.open(id);\n",
              "      // Send a message to notify the kernel that we're ready.\n",
              "      channel.send({})\n",
              "\n",
              "      for await (const message of channel.messages) {\n",
              "        // Send a message to notify the kernel that we're ready.\n",
              "        channel.send({})\n",
              "        if (message.buffers) {\n",
              "          for (const buffer of message.buffers) {\n",
              "            buffers.push(buffer);\n",
              "            downloaded += buffer.byteLength;\n",
              "            progress.value = downloaded;\n",
              "          }\n",
              "        }\n",
              "      }\n",
              "      const blob = new Blob(buffers, {type: 'application/binary'});\n",
              "      const a = document.createElement('a');\n",
              "      a.href = window.URL.createObjectURL(blob);\n",
              "      a.download = filename;\n",
              "      div.appendChild(a);\n",
              "      a.click();\n",
              "      div.remove();\n",
              "    }\n",
              "  "
            ],
            "text/plain": [
              "<IPython.core.display.Javascript object>"
            ]
          },
          "metadata": {
            "tags": []
          }
        },
        {
          "output_type": "display_data",
          "data": {
            "application/javascript": [
              "download(\"download_3f1d5d4a-45d5-442b-81bc-1b4bae764437\", \"model.zip\", 2936)"
            ],
            "text/plain": [
              "<IPython.core.display.Javascript object>"
            ]
          },
          "metadata": {
            "tags": []
          }
        }
      ]
    },
    {
      "cell_type": "code",
      "metadata": {
        "colab": {
          "base_uri": "https://localhost:8080/"
        },
        "id": "oznGqYQ9jTXl",
        "outputId": "d86c652a-2851-44bc-dfc1-0ed153943310"
      },
      "source": [
        "# Predict for a specific set of lengths\r\n",
        "\r\n",
        "slf = 2\r\n",
        "swf = 3\r\n",
        "plf = 2\r\n",
        "pwf = 5\r\n",
        "\r\n",
        "testVal = np.array([slf, swf, plf, pwf]).reshape(1, 4)\r\n",
        "\r\n",
        "classNames = [\"Setosa\", \"Virginica\", \"Versicolor\"]\r\n",
        "\r\n",
        "print(\"Class is \", classNames[np.argmax(model_1.predict(testVal))])"
      ],
      "execution_count": null,
      "outputs": [
        {
          "output_type": "stream",
          "text": [
            "Class is  Versicolor\n"
          ],
          "name": "stdout"
        }
      ]
    }
  ]
}